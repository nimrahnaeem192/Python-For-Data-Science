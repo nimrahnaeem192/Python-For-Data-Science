{
  "nbformat": 4,
  "nbformat_minor": 0,
  "metadata": {
    "colab": {
      "provenance": []
    },
    "kernelspec": {
      "name": "python3",
      "display_name": "Python 3"
    },
    "language_info": {
      "name": "python"
    }
  },
  "cells": [
    {
      "cell_type": "markdown",
      "source": [
        "# **Python Introduction**\n",
        "Python is a high-level, interpreted, and general-purpose programming language.\n",
        "\n",
        "Known for its simple and readable syntax, making it beginner-friendly.\n",
        "\n",
        "Used in various fields like:\n",
        "\n",
        "**Data Science & Machine Learning**\n",
        "\n",
        "**Web Development**\n",
        "\n",
        "**Automation & Scripting**\n",
        "\n",
        "**Game Development**\n",
        "\n",
        "**Artificial Intelligence**\n"
      ],
      "metadata": {
        "id": "VagzThwK72_O"
      }
    },
    {
      "cell_type": "markdown",
      "source": [
        "# **Python Syntax**\n",
        "**print() function**"
      ],
      "metadata": {
        "id": "gLD2PnjJ-rVJ"
      }
    },
    {
      "cell_type": "code",
      "source": [
        "print(\"Hy, my name is Nimra\")"
      ],
      "metadata": {
        "colab": {
          "base_uri": "https://localhost:8080/"
        },
        "id": "Cu5m3EJD-3Eh",
        "outputId": "a7f58239-daa1-464a-832e-893547c3dd25"
      },
      "execution_count": 13,
      "outputs": [
        {
          "output_type": "stream",
          "name": "stdout",
          "text": [
            "Hy, my name is Nimra\n"
          ]
        }
      ]
    },
    {
      "cell_type": "markdown",
      "source": [
        "**Comments in Python**"
      ],
      "metadata": {
        "id": "PjtW3zbX_DGD"
      }
    },
    {
      "cell_type": "code",
      "source": [
        "# This is a single-line comment\n",
        "\n",
        "\"\"\"\n",
        "This is a multi-line comment\n",
        "using triple quotes.\n",
        "\"\"\""
      ],
      "metadata": {
        "colab": {
          "base_uri": "https://localhost:8080/",
          "height": 36
        },
        "id": "S_nZ1jy4_Io7",
        "outputId": "57a2a1da-6669-471f-e648-a036ece5c9fd"
      },
      "execution_count": 14,
      "outputs": [
        {
          "output_type": "execute_result",
          "data": {
            "text/plain": [
              "'\\nThis is a multi-line comment\\nusing triple quotes.\\n'"
            ],
            "application/vnd.google.colaboratory.intrinsic+json": {
              "type": "string"
            }
          },
          "metadata": {},
          "execution_count": 14
        }
      ]
    },
    {
      "cell_type": "markdown",
      "source": [
        "**Escape Sequence in python**\n",
        "\n",
        "**For new line**"
      ],
      "metadata": {
        "id": "m66xanYN_f0w"
      }
    },
    {
      "cell_type": "code",
      "source": [
        "print(\"Today is my First day of learning Python. \\n Today I learn What is Python, print, comments, escape characters\")"
      ],
      "metadata": {
        "colab": {
          "base_uri": "https://localhost:8080/"
        },
        "id": "b0dVPxVz_jyu",
        "outputId": "f3960a2c-c044-4043-caa3-d83d1c873a36"
      },
      "execution_count": 15,
      "outputs": [
        {
          "output_type": "stream",
          "name": "stdout",
          "text": [
            "Today is my First day of learning Python. \n",
            " Today I learn What is Python, print, comments, escape characters\n"
          ]
        }
      ]
    },
    {
      "cell_type": "markdown",
      "source": [
        "**To add quotes in string**"
      ],
      "metadata": {
        "id": "HgzNhMd0LOf3"
      }
    },
    {
      "cell_type": "code",
      "source": [
        "print(\"Day 1 of Learning \\\"Python\\\"\")"
      ],
      "metadata": {
        "colab": {
          "base_uri": "https://localhost:8080/"
        },
        "id": "E7wKY5qtLSlX",
        "outputId": "83a69050-af6a-4847-a6cc-3301c110d67d"
      },
      "execution_count": 16,
      "outputs": [
        {
          "output_type": "stream",
          "name": "stdout",
          "text": [
            "Day 1 of Learning \"Python\"\n"
          ]
        }
      ]
    }
  ]
}