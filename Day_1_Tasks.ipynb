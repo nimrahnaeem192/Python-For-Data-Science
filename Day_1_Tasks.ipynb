{
  "nbformat": 4,
  "nbformat_minor": 0,
  "metadata": {
    "colab": {
      "provenance": []
    },
    "kernelspec": {
      "name": "python3",
      "display_name": "Python 3"
    },
    "language_info": {
      "name": "python"
    }
  },
  "cells": [
    {
      "cell_type": "markdown",
      "source": [
        "**1. What is Python and what are its key features?**\n",
        "\n",
        "Python is a interpreted programming language and is used nearly in all industries e.g. Web development, Data Science, Machine learning, AI, Automation and Game development.\n",
        "\n",
        "Key features:\n",
        "\n",
        "Simple syntax\n",
        "\n",
        "Easy to learn and understand\n",
        "\n",
        "Have vast libraries, e.g. numpy, scikit-learn, pandas"
      ],
      "metadata": {
        "id": "aRqio7l0AmkR"
      }
    },
    {
      "cell_type": "markdown",
      "source": [
        "**2. Write a Python program to print your full name on the screen.**"
      ],
      "metadata": {
        "id": "dZRr8_q6CB3b"
      }
    },
    {
      "cell_type": "code",
      "source": [
        "print(\"Nimra Naeem\")"
      ],
      "metadata": {
        "colab": {
          "base_uri": "https://localhost:8080/"
        },
        "id": "azaZ8ZZMCEud",
        "outputId": "3e39482b-87f8-463b-ef0f-0a087072dd50"
      },
      "execution_count": 7,
      "outputs": [
        {
          "output_type": "stream",
          "name": "stdout",
          "text": [
            "Nimra Naeem\n"
          ]
        }
      ]
    },
    {
      "cell_type": "markdown",
      "source": [
        "**3. What is the syntax of the print() function in Python?**\n",
        "\n",
        "print(\"text\") This is the basic syntax of print()"
      ],
      "metadata": {
        "id": "w8X4SWpdCgS6"
      }
    },
    {
      "cell_type": "code",
      "source": [
        "print(\"Python\")"
      ],
      "metadata": {
        "colab": {
          "base_uri": "https://localhost:8080/"
        },
        "id": "7Qmc5NEeC8Yo",
        "outputId": "13902376-a65c-4d48-8c0e-65aa2e5b7a98"
      },
      "execution_count": 8,
      "outputs": [
        {
          "output_type": "stream",
          "name": "stdout",
          "text": [
            "Python\n"
          ]
        }
      ]
    },
    {
      "cell_type": "markdown",
      "source": [
        "**4. How do you print multiple values in a single print() call?**"
      ],
      "metadata": {
        "id": "lZhBpoayDKd0"
      }
    },
    {
      "cell_type": "code",
      "source": [
        "print(\"Hello\", \"World\", 20)"
      ],
      "metadata": {
        "colab": {
          "base_uri": "https://localhost:8080/"
        },
        "id": "3acaQKhVDPUV",
        "outputId": "de8f3c1e-0fe6-4390-9aee-11059bffdf4b"
      },
      "execution_count": 9,
      "outputs": [
        {
          "output_type": "stream",
          "name": "stdout",
          "text": [
            "Hello World 20\n"
          ]
        }
      ]
    },
    {
      "cell_type": "markdown",
      "source": [
        "**5. What is a comment in Python and how is it used?**\n",
        "\n",
        "Comment is a line of code that is ignored by the interpreter and is used to explain the function or purpose of certain block of code.Comment can be both single line  or double line. To add a single line comment just add \"#\" before the line"
      ],
      "metadata": {
        "id": "ElS1Ztg8D0Br"
      }
    },
    {
      "cell_type": "code",
      "source": [
        "# Following line will print \"comment\"\n",
        "print(\"Comment\")"
      ],
      "metadata": {
        "colab": {
          "base_uri": "https://localhost:8080/"
        },
        "id": "5AFu78vwEoBV",
        "outputId": "8ee7e376-8a4d-4677-e8cb-47e2ef1a9ef9"
      },
      "execution_count": 10,
      "outputs": [
        {
          "output_type": "stream",
          "name": "stdout",
          "text": [
            "Comment\n"
          ]
        }
      ]
    },
    {
      "cell_type": "markdown",
      "source": [
        "**6. What’s the difference between single-line and multi-line comments in Python?**\n",
        "\n",
        "Single-line comment can comment only one line to comment multiple lines multi-line comment is used."
      ],
      "metadata": {
        "id": "HMmZ8_ZaE31x"
      }
    },
    {
      "cell_type": "code",
      "source": [
        "# Single line comment\n",
        "\n",
        "\"\"\"\n",
        "Triple qoutes are used\n",
        "for multi-line comments\n",
        "\"\"\""
      ],
      "metadata": {
        "colab": {
          "base_uri": "https://localhost:8080/",
          "height": 36
        },
        "id": "cQzlDTFuFZta",
        "outputId": "ac6bb9b7-4b0f-45e1-afd9-401a8f0868da"
      },
      "execution_count": 11,
      "outputs": [
        {
          "output_type": "execute_result",
          "data": {
            "text/plain": [
              "'\\nTriple qoutes are used\\nfor multi-line comments\\n'"
            ],
            "application/vnd.google.colaboratory.intrinsic+json": {
              "type": "string"
            }
          },
          "metadata": {},
          "execution_count": 11
        }
      ]
    },
    {
      "cell_type": "markdown",
      "source": [
        "**7. Add a comment in Python explaining the purpose of a program.**"
      ],
      "metadata": {
        "id": "t8MolHGIFnHi"
      }
    },
    {
      "cell_type": "code",
      "source": [
        "#This code will print the Hello World\n",
        "print(\"Hello World!!\")"
      ],
      "metadata": {
        "colab": {
          "base_uri": "https://localhost:8080/"
        },
        "id": "97gaRoOpFrI2",
        "outputId": "d06fa0bb-2ba5-457f-ada1-9a3fc8fab0b7"
      },
      "execution_count": 12,
      "outputs": [
        {
          "output_type": "stream",
          "name": "stdout",
          "text": [
            "Hello World!!\n"
          ]
        }
      ]
    },
    {
      "cell_type": "markdown",
      "source": [
        "**8. What are escape characters in Python? Give examples.**\n",
        "\n",
        "Escape Characters are the special characters used to add add the characters that cant be add directly. For example, in order to print multi-lines we use \"\\n\""
      ],
      "metadata": {
        "id": "OEG_38NXF4wG"
      }
    },
    {
      "cell_type": "code",
      "source": [
        "print(\"I am learning python for Data Science \\n Today is my first day of learning python\")"
      ],
      "metadata": {
        "colab": {
          "base_uri": "https://localhost:8080/"
        },
        "id": "yelTD8ZWGjQR",
        "outputId": "9dcf8a75-e827-4dcd-8c19-24a5c684a1b1"
      },
      "execution_count": 13,
      "outputs": [
        {
          "output_type": "stream",
          "name": "stdout",
          "text": [
            "I am learning python for Data Science \n",
            " Today is my first day of learning python\n"
          ]
        }
      ]
    },
    {
      "cell_type": "markdown",
      "source": [
        "**9. Print the sentence: He said, \"Python is great!\" using escape characters.**"
      ],
      "metadata": {
        "id": "73cvtHIMGv-x"
      }
    },
    {
      "cell_type": "code",
      "source": [
        "print(\"He said, \\\"Python is great\\\" \")"
      ],
      "metadata": {
        "colab": {
          "base_uri": "https://localhost:8080/"
        },
        "id": "7gyxhQEMG1Fz",
        "outputId": "cf1e0752-d6ea-4ff1-af64-7b9909b8ee5c"
      },
      "execution_count": 14,
      "outputs": [
        {
          "output_type": "stream",
          "name": "stdout",
          "text": [
            "He said, \"Python is great\" \n"
          ]
        }
      ]
    },
    {
      "cell_type": "markdown",
      "source": [
        "**10. Print the following using escape characters:**\n",
        "\n",
        "**Hello**\n",
        "\n",
        "**World!**"
      ],
      "metadata": {
        "id": "Ko6ifwDhG-Uh"
      }
    },
    {
      "cell_type": "code",
      "source": [
        "print(\"Hello \\n World\")"
      ],
      "metadata": {
        "colab": {
          "base_uri": "https://localhost:8080/"
        },
        "id": "3jTZm1KNHBTX",
        "outputId": "8be2730d-87b0-45e8-d0f2-22e6d1b20e59"
      },
      "execution_count": 15,
      "outputs": [
        {
          "output_type": "stream",
          "name": "stdout",
          "text": [
            "Hello \n",
            " World\n"
          ]
        }
      ]
    },
    {
      "cell_type": "markdown",
      "source": [
        "**11. Print a tabbed table using \\t like:**\n",
        "\n",
        "**Name    Age    City**\n",
        "\n",
        "**Ali     25     Lahore**"
      ],
      "metadata": {
        "id": "SodFuyFMHF7e"
      }
    },
    {
      "cell_type": "code",
      "source": [
        "print(\"Name \\t Age \\t City\")\n",
        "print(\"Ali \\t 25 \\t Lahore\")"
      ],
      "metadata": {
        "colab": {
          "base_uri": "https://localhost:8080/"
        },
        "id": "6kRNfrDJHNPG",
        "outputId": "10a5eb5a-032d-42f7-a779-d1b001ac6404"
      },
      "execution_count": 16,
      "outputs": [
        {
          "output_type": "stream",
          "name": "stdout",
          "text": [
            "Name \t Age \t City\n",
            "Ali \t 25 \t Lahore\n"
          ]
        }
      ]
    },
    {
      "cell_type": "markdown",
      "source": [
        "**12. What does \\n do in a print() statement?**\n",
        "\n",
        "\\n is escape character used to print multiple lines of string"
      ],
      "metadata": {
        "id": "zayap9fWHbla"
      }
    },
    {
      "cell_type": "code",
      "source": [
        "print(\"The string is written \\n in two lines\")"
      ],
      "metadata": {
        "colab": {
          "base_uri": "https://localhost:8080/"
        },
        "id": "M0sLmhR7Hm3h",
        "outputId": "affd6ff7-fead-4e4b-cc4b-053f6906e292"
      },
      "execution_count": 17,
      "outputs": [
        {
          "output_type": "stream",
          "name": "stdout",
          "text": [
            "The string is written \n",
            " in two lines\n"
          ]
        }
      ]
    },
    {
      "cell_type": "markdown",
      "source": [
        "**13. How do you include a backslash \\ in your output using print()?**\n",
        "\n",
        "To add backslash in the code you have to write \" \\ \" 2 times"
      ],
      "metadata": {
        "id": "wI98PWjfHwWR"
      }
    },
    {
      "cell_type": "code",
      "source": [
        "print(\"backslash: \\\\\")"
      ],
      "metadata": {
        "colab": {
          "base_uri": "https://localhost:8080/"
        },
        "id": "B3LLwLxeIAIr",
        "outputId": "e3050363-e765-4859-de3c-09db0cba6901"
      },
      "execution_count": 18,
      "outputs": [
        {
          "output_type": "stream",
          "name": "stdout",
          "text": [
            "backslash: \\\n"
          ]
        }
      ]
    },
    {
      "cell_type": "markdown",
      "source": [
        "**14. What happens if you forget to close a string with a quote?**\n",
        "\n",
        "It will give error as string can only be written between double or single quotes and print function only run properly if content is written between the double quotes."
      ],
      "metadata": {
        "id": "8LvLdPybIKl6"
      }
    },
    {
      "cell_type": "code",
      "source": [
        "# This code will through error\n",
        "print(\"Program)"
      ],
      "metadata": {
        "colab": {
          "base_uri": "https://localhost:8080/",
          "height": 106
        },
        "id": "3csot-OHITl-",
        "outputId": "9d37c53b-34ba-4a0a-a3d3-da77e89922b1"
      },
      "execution_count": 19,
      "outputs": [
        {
          "output_type": "error",
          "ename": "SyntaxError",
          "evalue": "unterminated string literal (detected at line 2) (ipython-input-19-2770543813.py, line 2)",
          "traceback": [
            "\u001b[0;36m  File \u001b[0;32m\"/tmp/ipython-input-19-2770543813.py\"\u001b[0;36m, line \u001b[0;32m2\u001b[0m\n\u001b[0;31m    print(\"Program)\u001b[0m\n\u001b[0m          ^\u001b[0m\n\u001b[0;31mSyntaxError\u001b[0m\u001b[0;31m:\u001b[0m unterminated string literal (detected at line 2)\n"
          ]
        }
      ]
    },
    {
      "cell_type": "markdown",
      "source": [
        "**15. Write a single-line Python program that prints:**\n",
        "**This is Python! on the first line and Let's code. on the second line using \\n**."
      ],
      "metadata": {
        "id": "m0k1m3RDIgz-"
      }
    },
    {
      "cell_type": "code",
      "source": [
        "print(\"this is Python! \\n Let's Code \")"
      ],
      "metadata": {
        "id": "42MbEv3NIqW4"
      },
      "execution_count": null,
      "outputs": []
    }
  ]
}